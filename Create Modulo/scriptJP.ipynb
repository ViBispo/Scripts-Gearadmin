{
 "cells": [
  {
   "cell_type": "code",
   "execution_count": 1,
   "metadata": {},
   "outputs": [],
   "source": [
    "from selenium import webdriver\n",
    "from selenium.webdriver.common.by import By\n",
    "from selenium.webdriver.support.ui import WebDriverWait\n",
    "from selenium.webdriver.support import expected_conditions as EC\n",
    "import time"
   ]
  },
  {
   "cell_type": "code",
   "execution_count": 2,
   "metadata": {},
   "outputs": [],
   "source": [
    "# Inicia o navegador\n",
    "driver = webdriver.Chrome()\n",
    "driver.get(\"https://adminv1.tecnorise.com/\")\n",
    "driver.maximize_window()\n"
   ]
  },
  {
   "cell_type": "code",
   "execution_count": 3,
   "metadata": {},
   "outputs": [],
   "source": [
    "login = driver.find_element(By.ID, \"usuario\")\n",
    "senha = driver.find_element(By.ID, \"password\")\n",
    "login.send_keys(\"victor.white\")\n",
    "senha.send_keys(\"Edu200401$\")"
   ]
  },
  {
   "cell_type": "code",
   "execution_count": 4,
   "metadata": {},
   "outputs": [
    {
     "name": "stdout",
     "output_type": "stream",
     "text": [
      "Login bem-sucedido!\n"
     ]
    }
   ],
   "source": [
    "# Clica no botão de login\n",
    "login_botao = driver.find_element(By.CSS_SELECTOR, \".btn-secondary\")\n",
    "login_botao.click()\n",
    "\n",
    "try:\n",
    "    WebDriverWait(driver, 15).until(\n",
    "        EC.presence_of_element_located((By.ID, \"main-menu-navigation\"))\n",
    "    )\n",
    "    print(\"Login bem-sucedido!\")\n",
    "except:\n",
    "    print(\"Algo deu errado no login ou redirecionamento.\")\n",
    "    driver.quit()\n",
    "    exit()"
   ]
  },
  {
   "cell_type": "code",
   "execution_count": 5,
   "metadata": {},
   "outputs": [
    {
     "name": "stdout",
     "output_type": "stream",
     "text": [
      "Clicou em 'Automações'\n"
     ]
    }
   ],
   "source": [
    "# Scroll no menu lateral até o botão \"Automações\" e clica\n",
    "try:\n",
    "    menu_lateral = driver.find_element(By.ID, \"main-menu-navigation\")\n",
    "    automacoes_button = driver.find_element(By.XPATH, \"//*[@id='main-menu-navigation']/li[8]/a/span[1]\")\n",
    "\n",
    "    # Rola até o botão dentro do menu lateral\n",
    "    driver.execute_script(\"arguments[0].scrollIntoView({block: 'center'});\", automacoes_button)\n",
    "\n",
    "    # Aguarda o botão estar clicável e clica\n",
    "    WebDriverWait(driver, 5).until(EC.element_to_be_clickable((By.XPATH, \"//*[@id='main-menu-navigation']/li[8]/a/span[1]\")))\n",
    "    automacoes_button.click()\n",
    "    print(\"Clicou em 'Automações'\")\n",
    "except Exception as e:\n",
    "    print(\"Erro ao clicar em 'Automações':\", e)\n",
    "    driver.quit()\n",
    "    exit()"
   ]
  },
  {
   "cell_type": "code",
   "execution_count": 6,
   "metadata": {},
   "outputs": [
    {
     "name": "stdout",
     "output_type": "stream",
     "text": [
      "Clicou no botão do módulo\n"
     ]
    }
   ],
   "source": [
    "# Aguarda e clica no botão do módulo\n",
    "try:\n",
    "    # Espera o botão estar visível e clicável\n",
    "    modulo_button = WebDriverWait(driver, 15).until(\n",
    "        EC.element_to_be_clickable((By.XPATH, \"//*[@id='main-menu-navigation']/li[8]/ul/li[1]/a/span\"))\n",
    "    )\n",
    "\n",
    "    # Faz scroll até o botão\n",
    "    driver.execute_script(\"arguments[0].scrollIntoView({block: 'center'});\", modulo_button)\n",
    "\n",
    "    # Aguarda um pouco só pra garantir que a rolagem terminou\n",
    "    time.sleep(1)\n",
    "\n",
    "    # Clica no botão\n",
    "    modulo_button.click()\n",
    "    print(\"Clicou no botão do módulo\")\n",
    "except Exception as e:\n",
    "    print(\"Erro ao clicar no botão do módulo:\", e)\n",
    "    driver.save_screenshot(\"erro_clicar_modulo.png\")  # útil pra debug visual\n",
    "    driver.quit()\n",
    "    exit()"
   ]
  },
  {
   "cell_type": "code",
   "execution_count": 7,
   "metadata": {},
   "outputs": [],
   "source": [
    "mais_modulos = driver.find_element(By.XPATH, \"//*[@id='root']/div[1]/main/div/div[2]/div/div[1]/div/div[1]/button\")\n",
    "mais_modulos.click()"
   ]
  },
  {
   "cell_type": "code",
   "execution_count": 8,
   "metadata": {},
   "outputs": [],
   "source": [
    "cond = driver.find_element(By.XPATH, \"/html/body/div[2]/div/div[1]/div/div/form/div[1]/div[1]/div[1]/div/div/div/div[1]\")\n",
    "cond.click()\n"
   ]
  },
  {
   "cell_type": "code",
   "execution_count": 9,
   "metadata": {},
   "outputs": [],
   "source": [
    "tipo = driver.find_element(By.XPATH, \"/html/body/div[2]/div/div[1]/div/div/form/div[1]/div[1]/div[2]/div/div/div/div[1]\")\n",
    "tipo.click()"
   ]
  },
  {
   "cell_type": "code",
   "execution_count": 10,
   "metadata": {},
   "outputs": [],
   "source": [
    "nome = driver.find_element(By.ID, \"dsc_equipamento\")\n",
    "nome.send_keys(\"FACIAL ENTRADA HALL\")"
   ]
  },
  {
   "cell_type": "code",
   "execution_count": 11,
   "metadata": {},
   "outputs": [],
   "source": [
    "monitora = driver.find_element(By.XPATH, \"/html/body/div[2]/div/div[1]/div/div/form/div[1]/div[2]/div[2]/div/div/div/div[1]/div[1]\")\n",
    "monitora.click()"
   ]
  },
  {
   "cell_type": "code",
   "execution_count": 9,
   "metadata": {},
   "outputs": [],
   "source": [
    "# Espera só para visualizar o resultado antes de fechar\n",
    "time.sleep(10)\n",
    "driver.quit()\n"
   ]
  }
 ],
 "metadata": {
  "kernelspec": {
   "display_name": "Python 3",
   "language": "python",
   "name": "python3"
  },
  "language_info": {
   "codemirror_mode": {
    "name": "ipython",
    "version": 3
   },
   "file_extension": ".py",
   "mimetype": "text/x-python",
   "name": "python",
   "nbconvert_exporter": "python",
   "pygments_lexer": "ipython3",
   "version": "3.13.2"
  }
 },
 "nbformat": 4,
 "nbformat_minor": 2
}
