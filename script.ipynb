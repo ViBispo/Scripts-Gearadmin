{
 "cells": [
  {
   "cell_type": "code",
   "execution_count": 3,
   "metadata": {},
   "outputs": [],
   "source": [
    "from selenium import webdriver\n",
    "from selenium.webdriver.common.by import By\n",
    "from selenium.webdriver.support.ui import WebDriverWait\n",
    "from selenium.webdriver.support import expected_conditions as EC\n",
    "import time"
   ]
  },
  {
   "cell_type": "code",
   "execution_count": 4,
   "metadata": {},
   "outputs": [],
   "source": [
    "# Inicia o navegador\n",
    "driver = webdriver.Chrome()\n",
    "driver.get(\"https://adminv1.tecnorise.com/\")\n",
    "driver.maximize_window()\n",
    "\n",
    "login = driver.find_element(By.ID, \"usuario\")\n",
    "senha = driver.find_element(By.ID, \"password\")\n",
    "login.send_keys(\"victor.white\")\n",
    "senha.send_keys(\"Edu200401$\")"
   ]
  },
  {
   "cell_type": "code",
   "execution_count": 5,
   "metadata": {},
   "outputs": [
    {
     "name": "stdout",
     "output_type": "stream",
     "text": [
      "Login bem-sucedido!\n"
     ]
    }
   ],
   "source": [
    "# Clica no botão de login\n",
    "login_botao = driver.find_element(By.CSS_SELECTOR, \".btn-secondary\")\n",
    "login_botao.click()\n",
    "\n",
    "try:\n",
    "    WebDriverWait(driver, 15).until(\n",
    "        EC.presence_of_element_located((By.ID, \"main-menu-navigation\"))\n",
    "    )\n",
    "    print(\"Login bem-sucedido!\")\n",
    "except:\n",
    "    print(\"Algo deu errado no login ou redirecionamento.\")\n",
    "    driver.quit()\n",
    "    exit()"
   ]
  },
  {
   "cell_type": "code",
   "execution_count": 6,
   "metadata": {},
   "outputs": [],
   "source": [
    "units = driver.find_element(By.XPATH, \"//*[@id='main-menu-navigation']/li[5]/a/span[1]\").click()"
   ]
  },
  {
   "cell_type": "code",
   "execution_count": 7,
   "metadata": {},
   "outputs": [
    {
     "name": "stdout",
     "output_type": "stream",
     "text": [
      "Clicou em 'cadastrar unidades'\n"
     ]
    }
   ],
   "source": [
    "# Scroll no menu lateral\n",
    "try:\n",
    "    menu_lateral = driver.find_element(By.ID, \"main-menu-navigation\")\n",
    "    register_Units = driver.find_element(By.XPATH, \"//*[@id='main-menu-navigation']/li[5]/ul/li[1]/a/span\")\n",
    "\n",
    "    # Rola até o botão dentro do menu lateral\n",
    "    driver.execute_script(\"arguments[0].scrollIntoView({block: 'center'});\", register_Units)\n",
    "\n",
    "    # Aguarda o botão estar clicável e clica\n",
    "    WebDriverWait(driver, 5).until(EC.element_to_be_clickable((By.XPATH, \"//*[@id='main-menu-navigation']/li[5]/ul/li[1]/a/span\")))\n",
    "    register_Units.click()\n",
    "    print(\"Clicou em 'cadastrar unidades'\")\n",
    "except Exception as e:\n",
    "    print(\"Erro ao clicar em 'cadastrar unidades':\", e)\n"
   ]
  },
  {
   "cell_type": "code",
   "execution_count": null,
   "metadata": {},
   "outputs": [],
   "source": [
    "\n",
    "from selenium.webdriver.common.keys import Keys\n",
    "\n",
    "# Digita parte do nome da unidade\n",
    "input_search = driver.find_element(By.ID, \"react-select-2-input\")\n",
    "input_search.send_keys(\"2130 - AMANDA\")\n",
    "input_search.send_keys(Keys.ENTER)\n",
    "\n",
    "# Aguarda a sugestão aparecer\n",
    "sugestao_xpath = \"//div[contains(@class, 'select__option') and contains(text(), '2130 - AMANDA')]\"\n",
    "#sugestao = wait.until(EC.element_to_be_clickable((By.XPATH, sugestao_xpath)))\n",
    "\n",
    "#sugestao.click()"
   ]
  },
  {
   "cell_type": "code",
   "execution_count": 9,
   "metadata": {},
   "outputs": [
    {
     "name": "stdout",
     "output_type": "stream",
     "text": [
      "Erro ou todas unidades removidas.\n"
     ]
    }
   ],
   "source": [
    "# Aguarda os ícones de lixeira aparecerem (ajuste a classe/XPath se necessário)\n",
    "while True:\n",
    "    try:\n",
    "        # Pega todos os ícones de lixeira disponíveis no momento\n",
    "        lixeiras = wait.until(EC.presence_of_all_elements_located((By.XPATH, \"//*[@id='users-list']/ul/li[1]/div/div[2]/svg\")))\n",
    "        \n",
    "        if not lixeiras:\n",
    "            print(\"Nenhuma unidade encontrada.\")\n",
    "            break\n",
    "\n",
    "        # Sempre pega a primeira lixeira disponível (índice 0)\n",
    "        lixeiras[0].click()\n",
    "        \n",
    "        # Aguarda modal aparecer\n",
    "        campo_confirmacao = wait.until(EC.presence_of_element_located((By.XPATH, \"//input[@type='text' and contains(@placeholder, 'REMOVER')]\")))\n",
    "        campo_confirmacao.send_keys(\"REMOVER\")\n",
    "        time.sleep(0.5)\n",
    "\n",
    "        # Clica no botão OK\n",
    "        botao_ok = wait.until(EC.element_to_be_clickable((By.XPATH, \"//button[text()='OK']\")))\n",
    "        botao_ok.click()\n",
    "        time.sleep(1.5)  # Espera a unidade sumir da lista\n",
    "    except Exception as e:\n",
    "        print(\"Erro ou todas unidades removidas.\")\n",
    "        break"
   ]
  }
 ],
 "metadata": {
  "kernelspec": {
   "display_name": "Python 3",
   "language": "python",
   "name": "python3"
  },
  "language_info": {
   "codemirror_mode": {
    "name": "ipython",
    "version": 3
   },
   "file_extension": ".py",
   "mimetype": "text/x-python",
   "name": "python",
   "nbconvert_exporter": "python",
   "pygments_lexer": "ipython3",
   "version": "3.13.2"
  }
 },
 "nbformat": 4,
 "nbformat_minor": 2
}
