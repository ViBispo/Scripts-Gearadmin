{
 "cells": [
  {
   "cell_type": "code",
   "execution_count": 4,
   "metadata": {},
   "outputs": [],
   "source": [
    "from selenium import webdriver\n",
    "from selenium.webdriver.common.by import By\n",
    "from selenium.webdriver.support.ui import WebDriverWait\n",
    "from selenium.webdriver.support import expected_conditions as EC\n",
    "import time"
   ]
  },
  {
   "cell_type": "code",
   "execution_count": 2,
   "metadata": {},
   "outputs": [],
   "source": [
    "# Inicia o navegador\n",
    "driver = webdriver.Chrome()\n",
    "driver.get(\"https://adminv1.tecnorise.com/\")\n",
    "driver.maximize_window()\n",
    "\n",
    "login = driver.find_element(By.ID, \"usuario\")\n",
    "senha = driver.find_element(By.ID, \"password\")\n",
    "login.send_keys(\"victor.white\")\n",
    "senha.send_keys(\"Edu200401$\")"
   ]
  },
  {
   "cell_type": "code",
   "execution_count": 3,
   "metadata": {},
   "outputs": [
    {
     "name": "stdout",
     "output_type": "stream",
     "text": [
      "Login bem-sucedido!\n"
     ]
    }
   ],
   "source": [
    "# Clica no botão de login\n",
    "login_botao = driver.find_element(By.CSS_SELECTOR, \".btn-secondary\")\n",
    "login_botao.click()\n",
    "\n",
    "try:\n",
    "    WebDriverWait(driver, 15).until(\n",
    "        EC.presence_of_element_located((By.ID, \"main-menu-navigation\"))\n",
    "    )\n",
    "    print(\"Login bem-sucedido!\")\n",
    "except:\n",
    "    print(\"Algo deu errado no login ou redirecionamento.\")\n",
    "    driver.quit()\n",
    "    exit()"
   ]
  },
  {
   "cell_type": "code",
   "execution_count": null,
   "metadata": {},
   "outputs": [],
   "source": [
    "units = driver.find_element(By.XPATH, \"//*[@id='main-menu-navigation']/li[5]/a/span[1]\").click()"
   ]
  }
 ],
 "metadata": {
  "kernelspec": {
   "display_name": "Python 3",
   "language": "python",
   "name": "python3"
  },
  "language_info": {
   "codemirror_mode": {
    "name": "ipython",
    "version": 3
   },
   "file_extension": ".py",
   "mimetype": "text/x-python",
   "name": "python",
   "nbconvert_exporter": "python",
   "pygments_lexer": "ipython3",
   "version": "3.13.2"
  }
 },
 "nbformat": 4,
 "nbformat_minor": 2
}
