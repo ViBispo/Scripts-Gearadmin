{
 "cells": [
  {
   "cell_type": "code",
   "execution_count": 13,
   "metadata": {},
   "outputs": [],
   "source": [
    "from selenium import webdriver\n",
    "from selenium.common.exceptions import NoSuchElementException\n",
    "from selenium.webdriver.common.by import By\n",
    "from selenium.webdriver.common.keys import Keys\n",
    "from selenium.webdriver.support.ui import WebDriverWait\n",
    "from selenium.webdriver.support import expected_conditions as EC\n",
    "import time"
   ]
  },
  {
   "cell_type": "code",
   "execution_count": 14,
   "metadata": {},
   "outputs": [],
   "source": [
    "# Inicia o navegador\n",
    "driver = webdriver.Chrome()\n",
    "driver.get(\"https://adminv1.tecnorise.com/\")\n",
    "driver.maximize_window()\n",
    "\n",
    "login = driver.find_element(By.ID, \"usuario\")\n",
    "senha = driver.find_element(By.ID, \"password\")\n",
    "login.send_keys(\"victor.white\")\n",
    "senha.send_keys(\"Edu200401$\")\n",
    "\n",
    "login_botao = driver.find_element(By.CSS_SELECTOR, \".btn-secondary\")\n",
    "login_botao.click()"
   ]
  },
  {
   "cell_type": "code",
   "execution_count": 15,
   "metadata": {},
   "outputs": [],
   "source": [
    "driver.get(\"https://adminv1.tecnorise.com/gear/condominio/unidades\")\n",
    "\n",
    "time.sleep(1)"
   ]
  },
  {
   "cell_type": "code",
   "execution_count": 16,
   "metadata": {},
   "outputs": [],
   "source": [
    "# Digita parte do nome da unidade\n",
    "input_search = driver.find_element(By.ID, \"react-select-2-input\")\n",
    "input_search.send_keys(\"5000 - WHITE\")\n",
    "input_search.send_keys(Keys.ENTER)"
   ]
  },
  {
   "cell_type": "code",
   "execution_count": 17,
   "metadata": {},
   "outputs": [
    {
     "ename": "KeyboardInterrupt",
     "evalue": "",
     "output_type": "error",
     "traceback": [
      "\u001b[31m---------------------------------------------------------------------------\u001b[39m",
      "\u001b[31mKeyboardInterrupt\u001b[39m                         Traceback (most recent call last)",
      "\u001b[36mCell\u001b[39m\u001b[36m \u001b[39m\u001b[32mIn[17]\u001b[39m\u001b[32m, line 10\u001b[39m\n\u001b[32m      7\u001b[39m     \u001b[38;5;28;01mbreak\u001b[39;00m\n\u001b[32m      9\u001b[39m lixeira[\u001b[32m0\u001b[39m].click()\n\u001b[32m---> \u001b[39m\u001b[32m10\u001b[39m \u001b[43mtime\u001b[49m\u001b[43m.\u001b[49m\u001b[43msleep\u001b[49m\u001b[43m(\u001b[49m\u001b[32;43m1\u001b[39;49m\u001b[43m)\u001b[49m\n\u001b[32m     12\u001b[39m \u001b[38;5;66;03m# Espera o input aparecer e digita \"REMOVER\"\u001b[39;00m\n\u001b[32m     13\u001b[39m remover = driver.find_element(By.CSS_SELECTOR, \u001b[33m'\u001b[39m\u001b[33minput[placeholder=\u001b[39m\u001b[33m\"\u001b[39m\u001b[33mREMOVER\u001b[39m\u001b[33m\"\u001b[39m\u001b[33m]\u001b[39m\u001b[33m'\u001b[39m)\n",
      "\u001b[31mKeyboardInterrupt\u001b[39m: "
     ]
    }
   ],
   "source": [
    "while True:\n",
    "    try:\n",
    "        lixeira = driver.find_elements(By.CSS_SELECTOR, \".float-right.mt-1.mb-2.width-25.d-block\")\n",
    "        \n",
    "        if not lixeira:\n",
    "            print(\"Nenhuma unidade restante.\")\n",
    "            break\n",
    "\n",
    "        lixeira[0].click()\n",
    "        time.sleep(1)\n",
    "        \n",
    "        # Espera o input aparecer e digita \"REMOVER\"\n",
    "        remover = driver.find_element(By.CSS_SELECTOR, 'input[placeholder=\"REMOVER\"]')\n",
    "        remover.send_keys(\"REMOVER\")\n",
    "        remover.send_keys(Keys.ENTER)\n",
    "\n",
    "        time.sleep(1)\n",
    "\n",
    "    except NoSuchElementException:\n",
    "        print(\"Elemento não encontrado. Finalizando.\")\n",
    "        break"
   ]
  }
 ],
 "metadata": {
  "kernelspec": {
   "display_name": "Python 3",
   "language": "python",
   "name": "python3"
  },
  "language_info": {
   "codemirror_mode": {
    "name": "ipython",
    "version": 3
   },
   "file_extension": ".py",
   "mimetype": "text/x-python",
   "name": "python",
   "nbconvert_exporter": "python",
   "pygments_lexer": "ipython3",
   "version": "3.13.2"
  }
 },
 "nbformat": 4,
 "nbformat_minor": 2
}
